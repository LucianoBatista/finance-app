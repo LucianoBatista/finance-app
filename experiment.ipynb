{
 "cells": [
  {
   "cell_type": "code",
   "execution_count": 29,
   "metadata": {},
   "outputs": [],
   "source": [
    "import os\n",
    "\n",
    "from deta import Deta\n",
    "from dotenv import load_dotenv\n",
    "\n",
    "load_dotenv()\n",
    "\n",
    "PROJECT_DETA_KEY = os.getenv(\"project_deta_key\")\n",
    "\n",
    "# init with the key\n",
    "deta = Deta(PROJECT_DETA_KEY)\n",
    "\n",
    "# This is how to create/connect a database\n",
    "db_income = deta.Base(\"finance_app_income\")\n",
    "db = deta.Base(\"finance_app\")\n"
   ]
  },
  {
   "cell_type": "code",
   "execution_count": 32,
   "metadata": {},
   "outputs": [
    {
     "data": {
      "text/plain": [
       "[{'bank': 'Nubank',\n",
       "  'category': 'Alimentação',\n",
       "  'created_at': '25-12-2022',\n",
       "  'due_date': '15-01-2023',\n",
       "  'key': '36kkiyhouuds',\n",
       "  'product': 'Ração',\n",
       "  'sub_category': 'Mercado',\n",
       "  'total': 50,\n",
       "  'type_buy': 'crédito',\n",
       "  'type_spent': 'Variável'},\n",
       " {'bank': 'Ticket',\n",
       "  'category': 'Alimentação',\n",
       "  'created_at': '25-12-2022',\n",
       "  'due_date': '25-12-2022',\n",
       "  'key': 'm12q118zprw6',\n",
       "  'product': 'Tomate',\n",
       "  'sub_category': 'Mercado',\n",
       "  'total': 20,\n",
       "  'type_buy': 'débito',\n",
       "  'type_spent': 'Variável'},\n",
       " {'bank': 'Nubank',\n",
       "  'category': 'Alimentação',\n",
       "  'created_at': '25-12-2022',\n",
       "  'due_date': '19-01-2023',\n",
       "  'key': 'psn6hg20jhn4',\n",
       "  'product': 'cabelo',\n",
       "  'sub_category': 'Mercado',\n",
       "  'total': 500,\n",
       "  'type_buy': 'crédito',\n",
       "  'type_spent': 'Variável'}]"
      ]
     },
     "execution_count": 32,
     "metadata": {},
     "output_type": "execute_result"
    }
   ],
   "source": [
    "res = db.fetch()\n",
    "res.items"
   ]
  },
  {
   "cell_type": "code",
   "execution_count": 33,
   "metadata": {},
   "outputs": [
    {
     "data": {
      "text/html": [
       "<div>\n",
       "<style scoped>\n",
       "    .dataframe tbody tr th:only-of-type {\n",
       "        vertical-align: middle;\n",
       "    }\n",
       "\n",
       "    .dataframe tbody tr th {\n",
       "        vertical-align: top;\n",
       "    }\n",
       "\n",
       "    .dataframe thead th {\n",
       "        text-align: right;\n",
       "    }\n",
       "</style>\n",
       "<table border=\"1\" class=\"dataframe\">\n",
       "  <thead>\n",
       "    <tr style=\"text-align: right;\">\n",
       "      <th></th>\n",
       "      <th>bank</th>\n",
       "      <th>category</th>\n",
       "      <th>created_at</th>\n",
       "      <th>due_date</th>\n",
       "      <th>key</th>\n",
       "      <th>product</th>\n",
       "      <th>sub_category</th>\n",
       "      <th>total</th>\n",
       "      <th>type_buy</th>\n",
       "      <th>type_spent</th>\n",
       "    </tr>\n",
       "  </thead>\n",
       "  <tbody>\n",
       "    <tr>\n",
       "      <th>0</th>\n",
       "      <td>Nubank</td>\n",
       "      <td>Alimentação</td>\n",
       "      <td>25-12-2022</td>\n",
       "      <td>15-01-2023</td>\n",
       "      <td>36kkiyhouuds</td>\n",
       "      <td>Ração</td>\n",
       "      <td>Mercado</td>\n",
       "      <td>50</td>\n",
       "      <td>crédito</td>\n",
       "      <td>Variável</td>\n",
       "    </tr>\n",
       "    <tr>\n",
       "      <th>1</th>\n",
       "      <td>Ticket</td>\n",
       "      <td>Alimentação</td>\n",
       "      <td>25-12-2022</td>\n",
       "      <td>25-12-2022</td>\n",
       "      <td>m12q118zprw6</td>\n",
       "      <td>Tomate</td>\n",
       "      <td>Mercado</td>\n",
       "      <td>20</td>\n",
       "      <td>débito</td>\n",
       "      <td>Variável</td>\n",
       "    </tr>\n",
       "    <tr>\n",
       "      <th>2</th>\n",
       "      <td>Nubank</td>\n",
       "      <td>Alimentação</td>\n",
       "      <td>25-12-2022</td>\n",
       "      <td>19-01-2023</td>\n",
       "      <td>psn6hg20jhn4</td>\n",
       "      <td>cabelo</td>\n",
       "      <td>Mercado</td>\n",
       "      <td>500</td>\n",
       "      <td>crédito</td>\n",
       "      <td>Variável</td>\n",
       "    </tr>\n",
       "  </tbody>\n",
       "</table>\n",
       "</div>"
      ],
      "text/plain": [
       "     bank     category  created_at    due_date           key product  \\\n",
       "0  Nubank  Alimentação  25-12-2022  15-01-2023  36kkiyhouuds   Ração   \n",
       "1  Ticket  Alimentação  25-12-2022  25-12-2022  m12q118zprw6  Tomate   \n",
       "2  Nubank  Alimentação  25-12-2022  19-01-2023  psn6hg20jhn4  cabelo   \n",
       "\n",
       "  sub_category  total type_buy type_spent  \n",
       "0      Mercado     50  crédito   Variável  \n",
       "1      Mercado     20   débito   Variável  \n",
       "2      Mercado    500  crédito   Variável  "
      ]
     },
     "execution_count": 33,
     "metadata": {},
     "output_type": "execute_result"
    }
   ],
   "source": [
    "import pandas as pd\n",
    "\n",
    "data = pd.DataFrame(res.items)\n",
    "data"
   ]
  },
  {
   "cell_type": "code",
   "execution_count": 55,
   "metadata": {},
   "outputs": [
    {
     "data": {
      "text/html": [
       "<div>\n",
       "<style scoped>\n",
       "    .dataframe tbody tr th:only-of-type {\n",
       "        vertical-align: middle;\n",
       "    }\n",
       "\n",
       "    .dataframe tbody tr th {\n",
       "        vertical-align: top;\n",
       "    }\n",
       "\n",
       "    .dataframe thead th {\n",
       "        text-align: right;\n",
       "    }\n",
       "</style>\n",
       "<table border=\"1\" class=\"dataframe\">\n",
       "  <thead>\n",
       "    <tr style=\"text-align: right;\">\n",
       "      <th></th>\n",
       "      <th>bank</th>\n",
       "      <th>category</th>\n",
       "      <th>created_at</th>\n",
       "      <th>due_date</th>\n",
       "      <th>key</th>\n",
       "      <th>product</th>\n",
       "      <th>sub_category</th>\n",
       "      <th>total</th>\n",
       "      <th>type_buy</th>\n",
       "      <th>type_spent</th>\n",
       "      <th>due_month</th>\n",
       "      <th>due_year</th>\n",
       "    </tr>\n",
       "  </thead>\n",
       "  <tbody>\n",
       "    <tr>\n",
       "      <th>0</th>\n",
       "      <td>Nubank</td>\n",
       "      <td>Alimentação</td>\n",
       "      <td>25-12-2022</td>\n",
       "      <td>15-01-2023</td>\n",
       "      <td>36kkiyhouuds</td>\n",
       "      <td>Ração</td>\n",
       "      <td>Mercado</td>\n",
       "      <td>50</td>\n",
       "      <td>crédito</td>\n",
       "      <td>Variável</td>\n",
       "      <td>1</td>\n",
       "      <td>2023</td>\n",
       "    </tr>\n",
       "    <tr>\n",
       "      <th>1</th>\n",
       "      <td>Ticket</td>\n",
       "      <td>Alimentação</td>\n",
       "      <td>25-12-2022</td>\n",
       "      <td>25-12-2022</td>\n",
       "      <td>m12q118zprw6</td>\n",
       "      <td>Tomate</td>\n",
       "      <td>Mercado</td>\n",
       "      <td>20</td>\n",
       "      <td>débito</td>\n",
       "      <td>Variável</td>\n",
       "      <td>12</td>\n",
       "      <td>2022</td>\n",
       "    </tr>\n",
       "    <tr>\n",
       "      <th>2</th>\n",
       "      <td>Nubank</td>\n",
       "      <td>Alimentação</td>\n",
       "      <td>25-12-2022</td>\n",
       "      <td>19-01-2023</td>\n",
       "      <td>psn6hg20jhn4</td>\n",
       "      <td>cabelo</td>\n",
       "      <td>Mercado</td>\n",
       "      <td>500</td>\n",
       "      <td>crédito</td>\n",
       "      <td>Variável</td>\n",
       "      <td>1</td>\n",
       "      <td>2023</td>\n",
       "    </tr>\n",
       "  </tbody>\n",
       "</table>\n",
       "</div>"
      ],
      "text/plain": [
       "     bank     category  created_at    due_date           key product  \\\n",
       "0  Nubank  Alimentação  25-12-2022  15-01-2023  36kkiyhouuds   Ração   \n",
       "1  Ticket  Alimentação  25-12-2022  25-12-2022  m12q118zprw6  Tomate   \n",
       "2  Nubank  Alimentação  25-12-2022  19-01-2023  psn6hg20jhn4  cabelo   \n",
       "\n",
       "  sub_category  total type_buy type_spent  due_month  due_year  \n",
       "0      Mercado     50  crédito   Variável          1      2023  \n",
       "1      Mercado     20   débito   Variável         12      2022  \n",
       "2      Mercado    500  crédito   Variável          1      2023  "
      ]
     },
     "execution_count": 55,
     "metadata": {},
     "output_type": "execute_result"
    }
   ],
   "source": [
    "data[\"due_month\"] = data[\"due_date\"].map(lambda x: int(x.split(\"-\")[1]))\n",
    "data[\"due_year\"] = data[\"due_date\"].map(lambda x: int(x.split(\"-\")[-1]))\n",
    "data"
   ]
  },
  {
   "cell_type": "code",
   "execution_count": 41,
   "metadata": {},
   "outputs": [
    {
     "data": {
      "image/png": "[encoded data removed]",
      "text/plain": [
       "<Figure size 1500x300 with 1 Axes>"
      ]
     },
     "metadata": {},
     "output_type": "display_data"
    }
   ],
   "source": [
    "import seaborn as sns\n",
    "import matplotlib.pyplot as plt\n",
    "sns.set_theme(style=\"whitegrid\")\n",
    "\n",
    "# Initialize the matplotlib figure\n",
    "f, ax = plt.subplots(figsize=(15, 3))\n",
    "\n",
    "# Plot the total crashes\n",
    "sns.set_color_codes(\"pastel\")\n",
    "sns.barplot(x=\"total\", y=\"product\", data=data,\n",
    "            label=\"Total\", color=\"b\")\n",
    "\n",
    "# Add a legend and informative axis label\n",
    "ax.legend(ncol=2, loc=\"lower right\", frameon=True)\n",
    "ax.set(xlim=(0, 200), ylabel=\"\",\n",
    "       xlabel=\"Automobile collisions per billion miles\")\n",
    "sns.despine(left=True, bottom=True)"
   ]
  },
  {
   "cell_type": "code",
   "execution_count": null,
   "metadata": {},
   "outputs": [],
   "source": []
  },
  {
   "cell_type": "code",
   "execution_count": null,
   "metadata": {},
   "outputs": [],
   "source": []
  },
  {
   "cell_type": "code",
   "execution_count": 28,
   "metadata": {},
   "outputs": [
    {
     "ename": "RuntimeError",
     "evalue": "FactorRange.start is a readonly property",
     "output_type": "error",
     "traceback": [
      "\u001b[0;31m---------------------------------------------------------------------------\u001b[0m",
      "\u001b[0;31mRuntimeError\u001b[0m                              Traceback (most recent call last)",
      "Cell \u001b[0;32mIn[28], line 20\u001b[0m\n\u001b[1;32m     17\u001b[0m p\u001b[39m.\u001b[39mhbar(y\u001b[39m=\u001b[39mfruits, right\u001b[39m=\u001b[39mcounts, left\u001b[39m=\u001b[39m\u001b[39m0\u001b[39m, height\u001b[39m=\u001b[39m\u001b[39m0.9\u001b[39m)\n\u001b[1;32m     19\u001b[0m p\u001b[39m.\u001b[39mxgrid\u001b[39m.\u001b[39mgrid_line_color \u001b[39m=\u001b[39m \u001b[39mNone\u001b[39;00m\n\u001b[0;32m---> 20\u001b[0m p\u001b[39m.\u001b[39;49my_range\u001b[39m.\u001b[39;49mstart \u001b[39m=\u001b[39m \u001b[39m0\u001b[39m\n\u001b[1;32m     22\u001b[0m show(p)\n",
      "File \u001b[0;32m~/.local/share/virtualenvs/finance-app-beYQr3PL/lib/python3.10/site-packages/bokeh/core/has_props.py:327\u001b[0m, in \u001b[0;36mHasProps.__setattr__\u001b[0;34m(self, name, value)\u001b[0m\n\u001b[1;32m    325\u001b[0m properties \u001b[39m=\u001b[39m \u001b[39mself\u001b[39m\u001b[39m.\u001b[39mproperties(_with_props\u001b[39m=\u001b[39m\u001b[39mTrue\u001b[39;00m)\n\u001b[1;32m    326\u001b[0m \u001b[39mif\u001b[39;00m name \u001b[39min\u001b[39;00m properties:\n\u001b[0;32m--> 327\u001b[0m     \u001b[39mreturn\u001b[39;00m \u001b[39msuper\u001b[39;49m()\u001b[39m.\u001b[39;49m\u001b[39m__setattr__\u001b[39;49m(name, value)\n\u001b[1;32m    329\u001b[0m descriptor \u001b[39m=\u001b[39m \u001b[39mgetattr\u001b[39m(\u001b[39mself\u001b[39m\u001b[39m.\u001b[39m\u001b[39m__class__\u001b[39m, name, \u001b[39mNone\u001b[39;00m)\n\u001b[1;32m    330\u001b[0m \u001b[39mif\u001b[39;00m \u001b[39misinstance\u001b[39m(descriptor, \u001b[39mproperty\u001b[39m): \u001b[39m# Python property\u001b[39;00m\n",
      "File \u001b[0;32m~/.local/share/virtualenvs/finance-app-beYQr3PL/lib/python3.10/site-packages/bokeh/core/property/descriptors.py:286\u001b[0m, in \u001b[0;36mPropertyDescriptor.__set__\u001b[0;34m(self, obj, value, setter)\u001b[0m\n\u001b[1;32m    283\u001b[0m \u001b[39mif\u001b[39;00m \u001b[39mself\u001b[39m\u001b[39m.\u001b[39mproperty\u001b[39m.\u001b[39mreadonly \u001b[39mand\u001b[39;00m obj\u001b[39m.\u001b[39m_initialized:\n\u001b[1;32m    284\u001b[0m     \u001b[39m# Allow to set a value during object initialization (e.g. value -> value_throttled)\u001b[39;00m\n\u001b[1;32m    285\u001b[0m     class_name \u001b[39m=\u001b[39m obj\u001b[39m.\u001b[39m\u001b[39m__class__\u001b[39m\u001b[39m.\u001b[39m\u001b[39m__name__\u001b[39m\n\u001b[0;32m--> 286\u001b[0m     \u001b[39mraise\u001b[39;00m \u001b[39mRuntimeError\u001b[39;00m(\u001b[39mf\u001b[39m\u001b[39m\"\u001b[39m\u001b[39m{\u001b[39;00mclass_name\u001b[39m}\u001b[39;00m\u001b[39m.\u001b[39m\u001b[39m{\u001b[39;00m\u001b[39mself\u001b[39m\u001b[39m.\u001b[39mname\u001b[39m}\u001b[39;00m\u001b[39m is a readonly property\u001b[39m\u001b[39m\"\u001b[39m)\n\u001b[1;32m    288\u001b[0m value \u001b[39m=\u001b[39m \u001b[39mself\u001b[39m\u001b[39m.\u001b[39mproperty\u001b[39m.\u001b[39mprepare_value(obj, \u001b[39mself\u001b[39m\u001b[39m.\u001b[39mname, value)\n\u001b[1;32m    289\u001b[0m old \u001b[39m=\u001b[39m \u001b[39mself\u001b[39m\u001b[39m.\u001b[39m_get(obj)\n",
      "\u001b[0;31mRuntimeError\u001b[0m: FactorRange.start is a readonly property"
     ]
    }
   ],
   "source": [
    "from bokeh.io import output_file, show\n",
    "from bokeh.plotting import figure\n",
    "\n",
    "output_file(\"bar_sorted.html\")\n",
    "\n",
    "fruits = ['Apples', 'Pears', 'Nectarines', 'Plums', 'Grapes', 'Strawberries']\n",
    "counts = [5, 3, 4, 2, 4, 6]\n",
    "\n",
    "# sorting the bars means sorting the range factors\n",
    "sorted_fruits = sorted(fruits, key=lambda x: counts[fruits.index(x)])\n",
    "\n",
    "p = figure(y_range=sorted_fruits, width=350, title=\"Fruit counts\",\n",
    "           toolbar_location=None, tools=\"\")\n",
    "\n",
    "\n",
    "\n",
    "p.hbar(y=fruits, right=counts, left=0, height=0.9)\n",
    "\n",
    "p.xgrid.grid_line_color = None\n",
    "p.y_range.start = 0\n",
    "\n",
    "show(p)\n"
   ]
  },
  {
   "cell_type": "code",
   "execution_count": null,
   "metadata": {},
   "outputs": [],
   "source": []
  },
  {
   "cell_type": "code",
   "execution_count": null,
   "metadata": {},
   "outputs": [],
   "source": []
  },
  {
   "cell_type": "code",
   "execution_count": null,
   "metadata": {},
   "outputs": [],
   "source": []
  }
 ],
 "metadata": {
  "kernelspec": {
   "display_name": "finance-app-beYQr3PL",
   "language": "python",
   "name": "python3"
  },
  "language_info": {
   "codemirror_mode": {
    "name": "ipython",
    "version": 3
   },
   "file_extension": ".py",
   "mimetype": "text/x-python",
   "name": "python",
   "nbconvert_exporter": "python",
   "pygments_lexer": "ipython3",
   "version": "3.10.7"
  },
  "orig_nbformat": 4,
  "vscode": {
   "interpreter": {
    "hash": "061a62734500f63b67f864bca7b4257705cd2f2a5c210c86bb82a327e08b6b34"
   }
  }
 },
 "nbformat": 4,
 "nbformat_minor": 2
}
